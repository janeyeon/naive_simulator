{
 "cells": [
  {
   "cell_type": "code",
   "execution_count": 69,
   "metadata": {},
   "outputs": [],
   "source": [
    "import numpy as np\n",
    "import math\n",
    "import sympy as sym\n"
   ]
  },
  {
   "cell_type": "code",
   "execution_count": 70,
   "metadata": {},
   "outputs": [],
   "source": [
    "#전역으로 사용될 변수를 저장해놓는다 \n",
    "#results 는 output 결과값을 string 으로 저장해놓는 함수로, 나중에 sympy 를 이용해서 깔끔하게 표현한다\n",
    "results = []\n",
    "temp_cal = \"\""
   ]
  },
  {
   "cell_type": "code",
   "execution_count": 81,
   "metadata": {},
   "outputs": [],
   "source": [
    "class quantum_computer:\n",
    "    def __init__(self, n):\n",
    "        self.n = n\n",
    "        #크기가 2 ** n 짜리 diagonal matrix 생성 \n",
    "        self.mat = np.eye(2 ** n, dtype='complex')\n",
    "         # n이 필요하다면 변수 \n",
    "        self.a = []\n",
    "        self.b = []\n",
    "        # 여기에는 n에 대한 각 변수를 지정해준다 \n",
    "        for i in range(n): \n",
    "           self.a.append('a' + str(i))\n",
    "           self.b.append('b' + str(i))\n",
    "           self.a[i] = sym.Symbol(self.a[i])\n",
    "           self.b[i] = sym.Symbol(self.b[i])\n",
    "        #이후에는 a[i], b[i]에 대해서만 연산한다면 깔끔하게 표시할 수 있다 \n",
    "\n",
    "        ind = []\n",
    "        #string 으로 죄다 저장해서 ind에 넣어놓는 것 -> 이걸 우리의 result 에 넣어놓도록 바꾸어야 한다 \n",
    "        for i in range(2 ** n):\n",
    "            tmp = \"\"\n",
    "            for j in range(n):\n",
    "                if j % n != 0: \n",
    "                    tmp = ' * ' + tmp\n",
    "                if (i >> j) % 2 == 1:\n",
    "                    #tmp = ('(b' + str(n - j) + ')') + tmp\n",
    "                    tmp = ('b' + str(n-j) + '') + tmp\n",
    "                else:\n",
    "                    #tmp = ('(a' + str(n - j) + ')') + tmp\n",
    "                    tmp = ('a' + str(n-j) + '') + tmp\n",
    "                \n",
    "            ind.append(tmp)\n",
    "        #ind에 각 state에 해당하는 값을 전부 (a1)(a2)..(an) 식으로 붙여서 list 생성 \n",
    "        self.ind = ind \n",
    "\n",
    "       \n",
    "        \n",
    "    def result(self, verbose=True):\n",
    "        result = []\n",
    "        transformations = sym.parsing.sympy_parser.standard_transformations + (sym.parsing.sympy_parser.function_exponentiation,)\n",
    "        for i in range(2 ** self.n):\n",
    "            flag = 0\n",
    "            #매 줄 시작전에 초기화 시켜줌  \n",
    "            temp_cal = \"\"\n",
    "            if verbose == False:\n",
    "                print(np.round(self.mat[i], 2))\n",
    "                #print(self.mat[i])\n",
    "            else:\n",
    "                for j in range(2 ** self.n):\n",
    "                    if self.mat[i][j] != 0:\n",
    "                        if(flag == 0):\n",
    "                            flag = 1\n",
    "                        else:\n",
    "                            # print(\" + \", end='')\n",
    "                            temp_cal += \" + \"\n",
    "                        # print(\"{0:.2f} {1:}\".format(self.mat[i][j], self.ind[j]), end=\"\")\n",
    "                        temp_cal += \"({0:.2f}) * {1:}\".format(self.mat[i][j], self.ind[j])\n",
    "                #print()\n",
    "                result.append(temp_cal)\n",
    "                # sym.pprint(sym.sympify(temp_cal, evaluate = True))\n",
    "                sym.parsing.sympy_parser(temp_cal, transformations = transformations)\n",
    "        #for index in range(2 ** self.n) :\n",
    "            #sym.pprint(result[index])\n",
    "        print()\n",
    "    \n",
    "    def output(self, l=0):        \n",
    "        for elem in self.mat[:, l]:\n",
    "            print(np.round(elem, 3))\n",
    "        print()\n",
    "    \n",
    "    def marginal(self, l=0):\n",
    "        print(\"\\t\\tProb 0\\tProb 1\")\n",
    "        for num in range(self.n):\n",
    "            print(num, \"Qubit:\\t\", end='')\n",
    "            count = 0\n",
    "            for i in range(2 ** self.n):\n",
    "                if i & (1 << num) == 0:\n",
    "                    count += self.mat[i, l] * np.conjugate(self.mat[i, l])\n",
    "            if np.imag(count) != 0:\n",
    "                print(\"Wrong\")\n",
    "                return\n",
    "            count = np.real(count)\n",
    "            print(np.round(count, 3), \"\\t\", np.round(1-count, 3))\n",
    "                    \n",
    "    \n",
    "    def h(self, a):\n",
    "        if a >= self.n:\n",
    "            print(\"Overflow!\")\n",
    "            return\n",
    "        \n",
    "        l = 2 ** a\n",
    "        t = 0\n",
    "        while(t < 2 ** self.n):\n",
    "            for i in range(t, t+l):\n",
    "                tmp = np.copy(self.mat[i] + self.mat[l + i]) * (0.5 ** 0.5)\n",
    "                self.mat[l + i] = np.copy(self.mat[i] - self.mat[l + i]) * (0.5 ** 0.5)\n",
    "                self.mat[i] = tmp\n",
    "            t += 2 * l\n",
    "            \n",
    "    def x(self, a):\n",
    "        if a >= self.n:\n",
    "            print(\"Overflow!\")\n",
    "            return\n",
    "        \n",
    "        l = 2 ** a\n",
    "        t = 0\n",
    "        while(t < 2 ** self.n):\n",
    "            for i in range(t, t+l):\n",
    "                tmp = np.copy(self.mat[l + i])\n",
    "                self.mat[l + i] = np.copy(self.mat[i])\n",
    "                self.mat[i] = tmp\n",
    "            t += 2 * l\n",
    "            \n",
    "    def y(self, a):\n",
    "        if a >= self.n:\n",
    "            print(\"Overflow!\")\n",
    "            return\n",
    "        \n",
    "        l = 2 ** a\n",
    "        t = 0\n",
    "        while(t < 2 ** self.n):\n",
    "            for i in range(t, t+l):\n",
    "                tmp = complex(0, -1) * np.copy(self.mat[l + i])\n",
    "                self.mat[l + i] = complex(0, 1) * np.copy(self.mat[i])\n",
    "                self.mat[i] = tmp\n",
    "            t += 2 * l\n",
    "            \n",
    "    def z(self, a):\n",
    "        if a >= self.n:\n",
    "            print(\"Overflow!\")\n",
    "            return\n",
    "        \n",
    "        l = 2 ** a\n",
    "        t = 0\n",
    "        while(t < 2 ** self.n):\n",
    "            for i in range(t, t+l):\n",
    "                self.mat[l + i] = -np.copy(self.mat[l + i])\n",
    "            t += 2 * l\n",
    "            \n",
    "    def phase(self, a, theta):\n",
    "        if a >= self.n:\n",
    "            print(\"Overflow!\")\n",
    "            return\n",
    "        \n",
    "        l = 2 ** a\n",
    "        t = 0\n",
    "        while(t < 2 ** self.n):\n",
    "            for i in range(t, t+l):\n",
    "                self.mat[l + i] = np.copy(self.mat[l + i]) * (math.e ** (1j * theta))\n",
    "            t += 2 * l\n",
    "    \"\"\"\n",
    "    def cnot(self, control, target):\n",
    "        if control >= self.n or target >= self.n:\n",
    "            print(\"Overflow!\")\n",
    "            return\n",
    "        \n",
    "        for i in range(2 ** self.n):\n",
    "            if i & (1 << control) != 0:\n",
    "                if i & (1 << target) == 0:\n",
    "                    tmp = np.copy(self.mat[i | (1 << target)])\n",
    "                    self.mat[i | (1 << target)] = np.copy(self.mat[i])\n",
    "                    self.mat[i] = tmp\n",
    "    \"\"\"\n",
    "    def cnot(self, control, target):\n",
    "        if len(control) >= (self.n) or target >= self.n:\n",
    "            print(\"Overflow!\")\n",
    "            return\n",
    "        \n",
    "        l = []\n",
    "        for elem in control:\n",
    "            l.append(1 << elem)\n",
    "        \n",
    "        for i in range(2 ** self.n):\n",
    "            flag = 0\n",
    "            for elem in l:\n",
    "                if i & elem == 0:\n",
    "                    flag = 1\n",
    "            if flag == 0:\n",
    "                if i & (1 << target) == 0:\n",
    "                    tmp = np.copy(self.mat[i | (1 << target)])\n",
    "                    self.mat[i | (1 << target)] = np.copy(self.mat[i])\n",
    "                    self.mat[i] = tmp"
   ]
  },
  {
   "cell_type": "markdown",
   "metadata": {},
   "source": [
    "## IPLEMENT BELOW"
   ]
  },
  {
   "cell_type": "code",
   "execution_count": 82,
   "metadata": {},
   "outputs": [
    {
     "output_type": "error",
     "ename": "TypeError",
     "evalue": "'module' object is not callable",
     "traceback": [
      "\u001b[0;31m---------------------------------------------------------------------------\u001b[0m",
      "\u001b[0;31mTypeError\u001b[0m                                 Traceback (most recent call last)",
      "\u001b[0;32m<ipython-input-82-41742b1c6787>\u001b[0m in \u001b[0;36m<module>\u001b[0;34m\u001b[0m\n\u001b[1;32m     21\u001b[0m \u001b[0;31m#qc.cnot([2], 1)\u001b[0m\u001b[0;34m\u001b[0m\u001b[0;34m\u001b[0m\u001b[0;34m\u001b[0m\u001b[0m\n\u001b[1;32m     22\u001b[0m \u001b[0;31m#qc.h(2)\u001b[0m\u001b[0;34m\u001b[0m\u001b[0;34m\u001b[0m\u001b[0;34m\u001b[0m\u001b[0m\n\u001b[0;32m---> 23\u001b[0;31m \u001b[0mqc\u001b[0m\u001b[0;34m.\u001b[0m\u001b[0mresult\u001b[0m\u001b[0;34m(\u001b[0m\u001b[0;34m)\u001b[0m\u001b[0;34m\u001b[0m\u001b[0;34m\u001b[0m\u001b[0m\n\u001b[0m",
      "\u001b[0;32m<ipython-input-81-e07918e19701>\u001b[0m in \u001b[0;36mresult\u001b[0;34m(self, verbose)\u001b[0m\n\u001b[1;32m     58\u001b[0m                 \u001b[0mresult\u001b[0m\u001b[0;34m.\u001b[0m\u001b[0mappend\u001b[0m\u001b[0;34m(\u001b[0m\u001b[0mtemp_cal\u001b[0m\u001b[0;34m)\u001b[0m\u001b[0;34m\u001b[0m\u001b[0;34m\u001b[0m\u001b[0m\n\u001b[1;32m     59\u001b[0m                 \u001b[0;31m# sym.pprint(sym.sympify(temp_cal, evaluate = True))\u001b[0m\u001b[0;34m\u001b[0m\u001b[0;34m\u001b[0m\u001b[0;34m\u001b[0m\u001b[0m\n\u001b[0;32m---> 60\u001b[0;31m                 \u001b[0msym\u001b[0m\u001b[0;34m.\u001b[0m\u001b[0mparsing\u001b[0m\u001b[0;34m.\u001b[0m\u001b[0msympy_parser\u001b[0m\u001b[0;34m(\u001b[0m\u001b[0mtemp_cal\u001b[0m\u001b[0;34m,\u001b[0m \u001b[0mtransformations\u001b[0m \u001b[0;34m=\u001b[0m \u001b[0mtransformations\u001b[0m\u001b[0;34m)\u001b[0m\u001b[0;34m\u001b[0m\u001b[0;34m\u001b[0m\u001b[0m\n\u001b[0m\u001b[1;32m     61\u001b[0m         \u001b[0;31m#for index in range(2 ** self.n) :\u001b[0m\u001b[0;34m\u001b[0m\u001b[0;34m\u001b[0m\u001b[0;34m\u001b[0m\u001b[0m\n\u001b[1;32m     62\u001b[0m             \u001b[0;31m#sym.pprint(result[index])\u001b[0m\u001b[0;34m\u001b[0m\u001b[0;34m\u001b[0m\u001b[0;34m\u001b[0m\u001b[0m\n",
      "\u001b[0;31mTypeError\u001b[0m: 'module' object is not callable"
     ]
    }
   ],
   "source": [
    "# Number of qubits\n",
    "n = 2\n",
    "#n=1\n",
    "qc = quantum_computer(n)\n",
    "\n",
    "qc.h(0)\n",
    "\n",
    "qc.x(1)\n",
    "#qc.cnot([2],1)\n",
    "# qc.h(2)\n",
    "\n",
    "#qc.x(0)\n",
    "#qc.z(0)\n",
    "#qc.cnot([2],1)\n",
    "\n",
    "#qc.h(2)\n",
    "#qc.z(1)\n",
    "#qc.cnot([1],0)\n",
    "\n",
    "#qc.h(1)\n",
    "#qc.cnot([2], 1)\n",
    "#qc.h(2)\n",
    "qc.result()"
   ]
  },
  {
   "cell_type": "code",
   "execution_count": null,
   "metadata": {},
   "outputs": [],
   "source": []
  },
  {
   "cell_type": "code",
   "execution_count": null,
   "metadata": {},
   "outputs": [],
   "source": []
  },
  {
   "cell_type": "markdown",
   "metadata": {},
   "source": [
    "### THIS IS FOR EXPLAINING INTERFACE ###"
   ]
  },
  {
   "cell_type": "code",
   "execution_count": 37,
   "metadata": {},
   "outputs": [],
   "source": [
    "# Number of qubits\n",
    "n = 3\n",
    "\n",
    "qc = quantum_computer(n)"
   ]
  },
  {
   "cell_type": "code",
   "execution_count": 38,
   "metadata": {},
   "outputs": [
    {
     "name": "stdout",
     "output_type": "stream",
     "text": [
      "1.00+0.00j (a1)(a2)(a3)\n",
      "1.00+0.00j (a1)(a2)(b3)\n",
      "1.00+0.00j (a1)(b2)(a3)\n",
      "1.00+0.00j (a1)(b2)(b3)\n",
      "1.00+0.00j (b1)(a2)(a3)\n",
      "1.00+0.00j (b1)(a2)(b3)\n",
      "1.00+0.00j (b1)(b2)(a3)\n",
      "1.00+0.00j (b1)(b2)(b3)\n",
      "\n"
     ]
    }
   ],
   "source": [
    "# To print the results of the vector, use result()\n",
    "qc.result()"
   ]
  },
  {
   "cell_type": "code",
   "execution_count": 39,
   "metadata": {},
   "outputs": [
    {
     "name": "stdout",
     "output_type": "stream",
     "text": [
      "(1+0j)\n",
      "0j\n",
      "0j\n",
      "0j\n",
      "0j\n",
      "0j\n",
      "0j\n",
      "0j\n",
      "\n"
     ]
    }
   ],
   "source": [
    "# To print the output, use output()\n",
    "qc.output()"
   ]
  },
  {
   "cell_type": "code",
   "execution_count": 40,
   "metadata": {},
   "outputs": [
    {
     "name": "stdout",
     "output_type": "stream",
     "text": [
      "0j\n",
      "0j\n",
      "0j\n",
      "0j\n",
      "(1+0j)\n",
      "0j\n",
      "0j\n",
      "0j\n",
      "\n"
     ]
    }
   ],
   "source": [
    "# To give specific input(only zero or one), give argument the number\n",
    "qc.output(0b100)"
   ]
  },
  {
   "cell_type": "code",
   "execution_count": 33,
   "metadata": {},
   "outputs": [
    {
     "name": "stdout",
     "output_type": "stream",
     "text": [
      "\t\tProb 0\tProb 1\n",
      "0 Qubit:\t1.0 \t -0.0\n",
      "1 Qubit:\t0.5 \t 0.5\n",
      "2 Qubit:\t0.5 \t 0.5\n",
      "\t\tProb 0\tProb 1\n",
      "0 Qubit:\t0.0 \t 1.0\n",
      "1 Qubit:\t0.5 \t 0.5\n",
      "2 Qubit:\t0.5 \t 0.5\n"
     ]
    }
   ],
   "source": [
    "# To figure out the probability of each qubit, use marginal().\n",
    "# This takes same argument as method output()\n",
    "qc.marginal()\n",
    "\n",
    "qc.marginal(0b011)"
   ]
  },
  {
   "cell_type": "code",
   "execution_count": 41,
   "metadata": {},
   "outputs": [
    {
     "name": "stdout",
     "output_type": "stream",
     "text": [
      "0.00-1.00j (b1)(b2)(a3)\n",
      "-0.00+1.00j (b1)(b2)(b3)\n",
      "0.00+1.00j (b1)(a2)(a3)\n",
      "-0.00-1.00j (b1)(a2)(b3)\n",
      "0.00-1.00j (a1)(b2)(a3)\n",
      "-0.00+1.00j (a1)(b2)(b3)\n",
      "0.00+1.00j (a1)(a2)(a3)\n",
      "-0.00-1.00j (a1)(a2)(b3)\n",
      "\n",
      "0.00-0.71j (a1)(b2)(a3) + 0.00-0.71j (b1)(b2)(a3)\n",
      "-0.00+0.71j (a1)(b2)(b3) + -0.00+0.71j (b1)(b2)(b3)\n",
      "0.00+0.71j (a1)(a2)(a3) + 0.00+0.71j (b1)(a2)(a3)\n",
      "0.00-0.71j (a1)(a2)(b3) + 0.00-0.71j (b1)(a2)(b3)\n",
      "0.00+0.71j (a1)(b2)(a3) + 0.00-0.71j (b1)(b2)(a3)\n",
      "0.00-0.71j (a1)(b2)(b3) + 0.00+0.71j (b1)(b2)(b3)\n",
      "0.00-0.71j (a1)(a2)(a3) + 0.00+0.71j (b1)(a2)(a3)\n",
      "0.00+0.71j (a1)(a2)(b3) + 0.00-0.71j (b1)(a2)(b3)\n",
      "\n"
     ]
    }
   ],
   "source": [
    "# X, Y, Z gate. The qubit 2 is the first qubit.\n",
    "qc.x(2)\n",
    "qc.y(1)\n",
    "qc.z(0)\n",
    "qc.result()\n",
    "\n",
    "# Similarly, hadamard gate.\n",
    "qc.h(2)\n",
    "qc.result()"
   ]
  },
  {
   "cell_type": "code",
   "execution_count": 42,
   "metadata": {},
   "outputs": [
    {
     "name": "stdout",
     "output_type": "stream",
     "text": [
      "0.00-0.71j (a1)(b2)(a3) + 0.00-0.71j (b1)(b2)(a3)\n",
      "-0.71+0.00j (a1)(b2)(b3) + -0.71+0.00j (b1)(b2)(b3)\n",
      "0.00+0.71j (a1)(a2)(a3) + 0.00+0.71j (b1)(a2)(a3)\n",
      "0.71-0.00j (a1)(a2)(b3) + 0.71-0.00j (b1)(a2)(b3)\n",
      "0.00+0.71j (a1)(b2)(a3) + 0.00-0.71j (b1)(b2)(a3)\n",
      "0.71-0.00j (a1)(b2)(b3) + -0.71+0.00j (b1)(b2)(b3)\n",
      "0.00-0.71j (a1)(a2)(a3) + 0.00+0.71j (b1)(a2)(a3)\n",
      "-0.71+0.00j (a1)(a2)(b3) + 0.71-0.00j (b1)(a2)(b3)\n",
      "\n"
     ]
    }
   ],
   "source": [
    "# Phase gate.\n",
    "qc.phase(0, math.pi/2)\n",
    "qc.result()"
   ]
  },
  {
   "cell_type": "code",
   "execution_count": 43,
   "metadata": {},
   "outputs": [
    {
     "name": "stdout",
     "output_type": "stream",
     "text": [
      "0.00-0.71j (a1)(b2)(a3) + 0.00-0.71j (b1)(b2)(a3)\n",
      "-0.71+0.00j (a1)(b2)(b3) + -0.71+0.00j (b1)(b2)(b3)\n",
      "0.71-0.00j (a1)(a2)(b3) + 0.71-0.00j (b1)(a2)(b3)\n",
      "0.00+0.71j (a1)(a2)(a3) + 0.00+0.71j (b1)(a2)(a3)\n",
      "0.00+0.71j (a1)(b2)(a3) + 0.00-0.71j (b1)(b2)(a3)\n",
      "0.71-0.00j (a1)(b2)(b3) + -0.71+0.00j (b1)(b2)(b3)\n",
      "-0.71+0.00j (a1)(a2)(b3) + 0.71-0.00j (b1)(a2)(b3)\n",
      "0.00-0.71j (a1)(a2)(a3) + 0.00+0.71j (b1)(a2)(a3)\n",
      "\n",
      "0.00-0.71j (a1)(b2)(a3) + 0.00-0.71j (b1)(b2)(a3)\n",
      "-0.71+0.00j (a1)(b2)(b3) + -0.71+0.00j (b1)(b2)(b3)\n",
      "0.71-0.00j (a1)(a2)(b3) + 0.71-0.00j (b1)(a2)(b3)\n",
      "0.00+0.71j (a1)(a2)(a3) + 0.00+0.71j (b1)(a2)(a3)\n",
      "0.00+0.71j (a1)(b2)(a3) + 0.00-0.71j (b1)(b2)(a3)\n",
      "0.00-0.71j (a1)(a2)(a3) + 0.00+0.71j (b1)(a2)(a3)\n",
      "-0.71+0.00j (a1)(a2)(b3) + 0.71-0.00j (b1)(a2)(b3)\n",
      "0.71-0.00j (a1)(b2)(b3) + -0.71+0.00j (b1)(b2)(b3)\n",
      "\n"
     ]
    }
   ],
   "source": [
    "# CNOT gate is cnot gate with single or multiple control. The first parameter has to be a list.\n",
    "qc.cnot([1], 0)\n",
    "qc.result()\n",
    "\n",
    "qc.cnot([0, 2], 1)\n",
    "qc.result()"
   ]
  },
  {
   "cell_type": "code",
   "execution_count": 44,
   "metadata": {},
   "outputs": [
    {
     "name": "stdout",
     "output_type": "stream",
     "text": [
      "0j\n",
      "0j\n",
      "0j\n",
      "0.707j\n",
      "0j\n",
      "-0.707j\n",
      "0j\n",
      "0j\n",
      "\n"
     ]
    }
   ],
   "source": [
    "# Final results are...\n",
    "qc.output()"
   ]
  },
  {
   "cell_type": "code",
   "execution_count": 45,
   "metadata": {},
   "outputs": [
    {
     "name": "stdout",
     "output_type": "stream",
     "text": [
      "(0.5+0j)\n",
      "(-0.5+0j)\n",
      "0j\n",
      "0j\n",
      "0j\n",
      "0j\n",
      "(0.5+0j)\n",
      "(-0.5+0j)\n",
      "\n"
     ]
    }
   ],
   "source": [
    "# ex)\n",
    "qc.y(1)\n",
    "qc.h(0)\n",
    "qc.output()"
   ]
  },
  {
   "cell_type": "code",
   "execution_count": 34,
   "metadata": {},
   "outputs": [
    {
     "name": "stdout",
     "output_type": "stream",
     "text": [
      "0.71+0.00j (a1)(a2)(a3) + 0.71+0.00j (b1)(a2)(a3)\n",
      "0.71+0.00j (a1)(a2)(b3) + 0.71+0.00j (b1)(a2)(b3)\n",
      "0.71+0.00j (a1)(b2)(a3) + 0.71+0.00j (b1)(b2)(a3)\n",
      "0.71+0.00j (a1)(b2)(b3) + 0.71+0.00j (b1)(b2)(b3)\n",
      "0.71+0.00j (a1)(b2)(a3) + -0.71+0.00j (b1)(b2)(a3)\n",
      "0.71+0.00j (a1)(b2)(b3) + -0.71+0.00j (b1)(b2)(b3)\n",
      "0.71+0.00j (a1)(a2)(a3) + -0.71+0.00j (b1)(a2)(a3)\n",
      "0.71+0.00j (a1)(a2)(b3) + -0.71+0.00j (b1)(a2)(b3)\n",
      "\n",
      "(0.707+0j)\n",
      "0j\n",
      "0j\n",
      "0j\n",
      "0j\n",
      "0j\n",
      "(0.707+0j)\n",
      "0j\n",
      "\n",
      "\t\tProb 0\tProb 1\n",
      "0 Qubit:\t1.0 \t -0.0\n",
      "1 Qubit:\t0.5 \t 0.5\n",
      "2 Qubit:\t0.5 \t 0.5\n"
     ]
    }
   ],
   "source": [
    "# ex 2)\n",
    "qc = quantum_computer(3)\n",
    "\n",
    "qc.h(2)\n",
    "qc.cnot([2], 1)\n",
    "\n",
    "qc.result()\n",
    "qc.output()\n",
    "qc.marginal()"
   ]
  }
 ],
 "metadata": {
  "kernelspec": {
   "name": "python391jvsc74a57bd082825baba28b5a146e70c5851459733869a5b3d64f9aba627b90be2edd986815",
   "display_name": "Python 3.9.1 64-bit ('qiskit': conda)"
  },
  "language_info": {
   "codemirror_mode": {
    "name": "ipython",
    "version": 3
   },
   "file_extension": ".py",
   "mimetype": "text/x-python",
   "name": "python",
   "nbconvert_exporter": "python",
   "pygments_lexer": "ipython3",
   "version": "3.9.1-final"
  }
 },
 "nbformat": 4,
 "nbformat_minor": 2
}
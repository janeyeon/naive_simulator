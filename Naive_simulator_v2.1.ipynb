{
 "cells": [
  {
   "cell_type": "code",
   "execution_count": 90,
   "metadata": {},
   "outputs": [],
   "source": [
    "import numpy as np\n",
    "import math\n",
    "import sympy as sym\n",
    "import sympy.parsing.sympy_parser as sp"
   ]
  },
  {
   "cell_type": "code",
   "execution_count": 124,
   "metadata": {},
   "outputs": [],
   "source": [
    "#전역으로 사용될 변수를 저장해놓는다 \n",
    "#results 는 output 결과값을 string 으로 저장해놓는 함수로, 나중에 sympy 를 이용해서 깔끔하게 표현한다\n",
    "# results = []\n",
    "# special_result = []\n",
    "# temp_cal = \"\""
   ]
  },
  {
   "cell_type": "code",
   "execution_count": 165,
   "metadata": {},
   "outputs": [],
   "source": [
    "class quantum_computer:\n",
    "    def __init__(self, n):\n",
    "        self.n = n\n",
    "        #크기가 2 ** n 짜리 diagonal matrix 생성 \n",
    "        self.mat = np.eye(2 ** n, dtype='complex')\n",
    "        # self.special_result = [\"\"] * self.n\n",
    "        # self.myresult = []\n",
    "        ind = []\n",
    "        #string 으로 죄다 저장해서 ind에 넣어놓는 것 -> 이걸 우리의 result 에 넣어놓도록 바꾸어야 한다 \n",
    "        for i in range(2 ** n):\n",
    "            tmp = \"\"\n",
    "            for j in range(n):\n",
    "                if j % n != 0: \n",
    "                    tmp = ' * ' + tmp\n",
    "                if (i >> j) % 2 == 1:\n",
    "                    #tmp = ('(b' + str(n - j) + ')') + tmp\n",
    "                    tmp = ('b' + str(n-j-1)) + tmp\n",
    "                else:\n",
    "                    #tmp = ('(a' + str(n - j) + ')') + tmp\n",
    "                    tmp = ('a' + str(n-j-1)) + tmp\n",
    "                \n",
    "            ind.append(tmp)\n",
    "        #ind에 각 state에 해당하는 값을 전부 (a1)(a2)..(an) 식으로 붙여서 list 생성 \n",
    "        self.ind = ind \n",
    "\n",
    "       \n",
    "        \n",
    "    def result(self, verbose=True):\n",
    "        myresult = []\n",
    "        # transformations = sp.standard_transformations + (sp.function_exponentiation,)\n",
    "        for i in range(2 ** self.n):\n",
    "            flag = 0\n",
    "            #매 줄 시작전에 초기화 시켜줌  \n",
    "            temp_cal = \"\"\n",
    "            if verbose == False:\n",
    "                print(np.round(self.mat[i], 2))\n",
    "                #print(self.mat[i])\n",
    "            else:\n",
    "                for j in range(2 ** self.n):\n",
    "                    if self.mat[i][j] != 0:\n",
    "                        if(flag == 0):\n",
    "                            flag = 1\n",
    "                        else:\n",
    "                            # print(\" + \", end='')\n",
    "                            temp_cal += \" + \"\n",
    "                        # print(\"{0:.2f} {1:}\".format(self.mat[i][j], self.ind[j]), end=\"\")\n",
    "                        temp_cal += \"({0:.2f}) * {1:}\".format(self.mat[i][j], self.ind[j])\n",
    "                #print()\n",
    "                myresult.append(temp_cal)\n",
    "                sym.pprint(sp.parse_expr(temp_cal, evaluate = True))\n",
    "                # sym.pprint(sp.parse_expr(temp_cal, transformations = transformations))\n",
    "        print()\n",
    "\n",
    "    def special_result(self) : \n",
    "        #맨처음 special_result를 초기화 \n",
    "        special_result = [\"\"] * self.n\n",
    "        myresult = []\n",
    "        for i in range(2 ** self.n) :\n",
    "            flag = 0\n",
    "            temp_cal = \"\"\n",
    "            for j in range(2 ** self.n):\n",
    "                    if self.mat[i][j] != 0:\n",
    "                        if(flag == 0):\n",
    "                            flag = 1\n",
    "                        else:\n",
    "                            temp_cal += \" + \"\n",
    "                        temp_cal += \"({0:.2f}) * {1:}\".format(self.mat[i][j], self.ind[j])\n",
    "            myresult.append(temp_cal)\n",
    "        # 먼저 result 가 선행되어야함 \n",
    "        \n",
    "        for i in range(2 ** self.n): \n",
    "            for j in range(self.n) : \n",
    "                if (i >> j) % 2 == 0 :\n",
    "                    # 맨 처음 결과를 쓰는 거라면 \n",
    "                    if special_result[self.n - j - 1] == \"\": \n",
    "                        special_result[self.n - j - 1] = \"(\" + myresult[i] + \")\" + \"** 2\"\n",
    "                    else :\n",
    "                        special_result[self.n - j - 1] = \"(\" + myresult[i] + \")\" + \"** 2 + \" + special_result[self.n - j - 1]\n",
    "        \n",
    "        for i in range(self.n) :\n",
    "            print(\"<a\" + str(i) + \">\")\n",
    "            # print(special_result[i])\n",
    "            sym.pprint(sp.parse_expr(special_result[i], evaluate = True))\n",
    "            print()\n",
    "\n",
    "    \n",
    "    def output(self, l=0):        \n",
    "        for elem in self.mat[:, l]:\n",
    "            print(np.round(elem, 3))\n",
    "        print()\n",
    "    \n",
    "    def marginal(self, l=0):\n",
    "        print(\"\\t\\tProb 0\\tProb 1\")\n",
    "        for num in range(self.n):\n",
    "            print(num, \"Qubit:\\t\", end='')\n",
    "            count = 0\n",
    "            for i in range(2 ** self.n):\n",
    "                if i & (1 << num) == 0:\n",
    "                    count += self.mat[i, l] * np.conjugate(self.mat[i, l])\n",
    "            if np.imag(count) != 0:\n",
    "                print(\"Wrong\")\n",
    "                return\n",
    "            count = np.real(count)\n",
    "            print(np.round(count, 3), \"\\t\", np.round(1-count, 3))\n",
    "                    \n",
    "    \n",
    "    def h(self, a):\n",
    "        if a >= self.n:\n",
    "            print(\"Overflow!\")\n",
    "            return\n",
    "        \n",
    "        l = 2 ** a\n",
    "        t = 0\n",
    "        while(t < 2 ** self.n):\n",
    "            for i in range(t, t+l):\n",
    "                tmp = np.copy(self.mat[i] + self.mat[l + i]) * (0.5 ** 0.5)\n",
    "                self.mat[l + i] = np.copy(self.mat[i] - self.mat[l + i]) * (0.5 ** 0.5)\n",
    "                self.mat[i] = tmp\n",
    "            t += 2 * l\n",
    "            \n",
    "    def x(self, a):\n",
    "        if a >= self.n:\n",
    "            print(\"Overflow!\")\n",
    "            return\n",
    "        \n",
    "        l = 2 ** a\n",
    "        t = 0\n",
    "        while(t < 2 ** self.n):\n",
    "            for i in range(t, t+l):\n",
    "                tmp = np.copy(self.mat[l + i])\n",
    "                self.mat[l + i] = np.copy(self.mat[i])\n",
    "                self.mat[i] = tmp\n",
    "            t += 2 * l\n",
    "            \n",
    "    def y(self, a):\n",
    "        if a >= self.n:\n",
    "            print(\"Overflow!\")\n",
    "            return\n",
    "        \n",
    "        l = 2 ** a\n",
    "        t = 0\n",
    "        while(t < 2 ** self.n):\n",
    "            for i in range(t, t+l):\n",
    "                tmp = complex(0, -1) * np.copy(self.mat[l + i])\n",
    "                self.mat[l + i] = complex(0, 1) * np.copy(self.mat[i])\n",
    "                self.mat[i] = tmp\n",
    "            t += 2 * l\n",
    "            \n",
    "    def z(self, a):\n",
    "        if a >= self.n:\n",
    "            print(\"Overflow!\")\n",
    "            return\n",
    "        \n",
    "        l = 2 ** a\n",
    "        t = 0\n",
    "        while(t < 2 ** self.n):\n",
    "            for i in range(t, t+l):\n",
    "                self.mat[l + i] = -np.copy(self.mat[l + i])\n",
    "            t += 2 * l\n",
    "            \n",
    "    def phase(self, a, theta):\n",
    "        if a >= self.n:\n",
    "            print(\"Overflow!\")\n",
    "            return\n",
    "        \n",
    "        l = 2 ** a\n",
    "        t = 0\n",
    "        while(t < 2 ** self.n):\n",
    "            for i in range(t, t+l):\n",
    "                self.mat[l + i] = np.copy(self.mat[l + i]) * (math.e ** (1j * theta))\n",
    "            t += 2 * l\n",
    "    \"\"\"\n",
    "    def cnot(self, control, target):\n",
    "        if control >= self.n or target >= self.n:\n",
    "            print(\"Overflow!\")\n",
    "            return\n",
    "        \n",
    "        for i in range(2 ** self.n):\n",
    "            if i & (1 << control) != 0:\n",
    "                if i & (1 << target) == 0:\n",
    "                    tmp = np.copy(self.mat[i | (1 << target)])\n",
    "                    self.mat[i | (1 << target)] = np.copy(self.mat[i])\n",
    "                    self.mat[i] = tmp\n",
    "    \"\"\"\n",
    "    def cnot(self, control, target):\n",
    "        if len(control) >= (self.n) or target >= self.n:\n",
    "            print(\"Overflow!\")\n",
    "            return\n",
    "        \n",
    "        l = []\n",
    "        for elem in control:\n",
    "            l.append(1 << elem)\n",
    "        \n",
    "        for i in range(2 ** self.n):\n",
    "            flag = 0\n",
    "            for elem in l:\n",
    "                if i & elem == 0:\n",
    "                    flag = 1\n",
    "            if flag == 0:\n",
    "                if i & (1 << target) == 0:\n",
    "                    tmp = np.copy(self.mat[i | (1 << target)])\n",
    "                    self.mat[i | (1 << target)] = np.copy(self.mat[i])\n",
    "                    self.mat[i] = tmp"
   ]
  },
  {
   "cell_type": "markdown",
   "metadata": {},
   "source": [
    "## IPLEMENT BELOW"
   ]
  },
  {
   "cell_type": "code",
   "execution_count": 166,
   "metadata": {},
   "outputs": [
    {
     "output_type": "stream",
     "name": "stdout",
     "text": [
      "<a0>\n                      2                         2\n0.5041⋅(a₀⋅a₁ + a₀⋅b₁)  + 0.5041⋅(a₁⋅b₀ - b₀⋅b₁) \n\n<a1>\n                      2                         2\n0.5041⋅(a₀⋅a₁ + a₀⋅b₁)  + 0.5041⋅(a₁⋅b₀ + b₀⋅b₁) \n\n"
     ]
    }
   ],
   "source": [
    "# Number of qubits\n",
    "n = 2\n",
    "#n=1\n",
    "qc = quantum_computer(n)\n",
    "\n",
    "qc.h(0)\n",
    "qc.cnot([0], 1)\n",
    "# qc.x(1)\n",
    "#qc.cnot([2],1)\n",
    "# qc.h(2)\n",
    "\n",
    "#qc.x(0)\n",
    "#qc.z(0)\n",
    "#qc.cnot([2],1)\n",
    "\n",
    "#qc.h(2)\n",
    "#qc.z(1)\n",
    "#qc.cnot([1],0)\n",
    "\n",
    "#qc.h(1)\n",
    "#qc.cnot([2], 1)\n",
    "#qc.h(2)\n",
    "# qc.result()\n",
    "qc.special_result()"
   ]
  },
  {
   "cell_type": "code",
   "execution_count": null,
   "metadata": {},
   "outputs": [],
   "source": []
  },
  {
   "cell_type": "code",
   "execution_count": null,
   "metadata": {},
   "outputs": [],
   "source": []
  },
  {
   "cell_type": "markdown",
   "metadata": {},
   "source": [
    "### THIS IS FOR EXPLAINING INTERFACE ###"
   ]
  },
  {
   "cell_type": "code",
   "execution_count": 95,
   "metadata": {},
   "outputs": [],
   "source": [
    "# Number of qubits\n",
    "n = 3\n",
    "\n",
    "qc = quantum_computer(n)"
   ]
  },
  {
   "cell_type": "code",
   "execution_count": 96,
   "metadata": {},
   "outputs": [
    {
     "output_type": "stream",
     "name": "stdout",
     "text": [
      "1.0⋅a₁⋅a₂⋅a₃\n1.0⋅a₁⋅a₂⋅b₃\n1.0⋅a₁⋅a₃⋅b₂\n1.0⋅a₁⋅b₂⋅b₃\n1.0⋅a₂⋅a₃⋅b₁\n1.0⋅a₂⋅b₁⋅b₃\n1.0⋅a₃⋅b₁⋅b₂\n1.0⋅b₁⋅b₂⋅b₃\n\n"
     ]
    }
   ],
   "source": [
    "# To print the results of the vector, use result()\n",
    "qc.result()"
   ]
  },
  {
   "cell_type": "code",
   "execution_count": 39,
   "metadata": {},
   "outputs": [
    {
     "name": "stdout",
     "output_type": "stream",
     "text": [
      "(1+0j)\n",
      "0j\n",
      "0j\n",
      "0j\n",
      "0j\n",
      "0j\n",
      "0j\n",
      "0j\n",
      "\n"
     ]
    }
   ],
   "source": [
    "# To print the output, use output()\n",
    "qc.output()"
   ]
  },
  {
   "cell_type": "code",
   "execution_count": 40,
   "metadata": {},
   "outputs": [
    {
     "name": "stdout",
     "output_type": "stream",
     "text": [
      "0j\n",
      "0j\n",
      "0j\n",
      "0j\n",
      "(1+0j)\n",
      "0j\n",
      "0j\n",
      "0j\n",
      "\n"
     ]
    }
   ],
   "source": [
    "# To give specific input(only zero or one), give argument the number\n",
    "qc.output(0b100)"
   ]
  },
  {
   "cell_type": "code",
   "execution_count": 33,
   "metadata": {},
   "outputs": [
    {
     "name": "stdout",
     "output_type": "stream",
     "text": [
      "\t\tProb 0\tProb 1\n",
      "0 Qubit:\t1.0 \t -0.0\n",
      "1 Qubit:\t0.5 \t 0.5\n",
      "2 Qubit:\t0.5 \t 0.5\n",
      "\t\tProb 0\tProb 1\n",
      "0 Qubit:\t0.0 \t 1.0\n",
      "1 Qubit:\t0.5 \t 0.5\n",
      "2 Qubit:\t0.5 \t 0.5\n"
     ]
    }
   ],
   "source": [
    "# To figure out the probability of each qubit, use marginal().\n",
    "# This takes same argument as method output()\n",
    "qc.marginal()\n",
    "\n",
    "qc.marginal(0b011)"
   ]
  },
  {
   "cell_type": "code",
   "execution_count": 97,
   "metadata": {},
   "outputs": [
    {
     "output_type": "stream",
     "name": "stdout",
     "text": [
      "-1.0⋅ⅈ⋅a₃⋅b₁⋅b₂\n1.0⋅ⅈ⋅b₁⋅b₂⋅b₃\n1.0⋅ⅈ⋅a₂⋅a₃⋅b₁\n-1.0⋅ⅈ⋅a₂⋅b₁⋅b₃\n-1.0⋅ⅈ⋅a₁⋅a₃⋅b₂\n1.0⋅ⅈ⋅a₁⋅b₂⋅b₃\n1.0⋅ⅈ⋅a₁⋅a₂⋅a₃\n-1.0⋅ⅈ⋅a₁⋅a₂⋅b₃\n\n-0.71⋅ⅈ⋅a₁⋅a₃⋅b₂ - 0.71⋅ⅈ⋅a₃⋅b₁⋅b₂\n0.71⋅ⅈ⋅a₁⋅b₂⋅b₃ + 0.71⋅ⅈ⋅b₁⋅b₂⋅b₃\n0.71⋅ⅈ⋅a₁⋅a₂⋅a₃ + 0.71⋅ⅈ⋅a₂⋅a₃⋅b₁\n-0.71⋅ⅈ⋅a₁⋅a₂⋅b₃ - 0.71⋅ⅈ⋅a₂⋅b₁⋅b₃\n0.71⋅ⅈ⋅a₁⋅a₃⋅b₂ - 0.71⋅ⅈ⋅a₃⋅b₁⋅b₂\n-0.71⋅ⅈ⋅a₁⋅b₂⋅b₃ + 0.71⋅ⅈ⋅b₁⋅b₂⋅b₃\n-0.71⋅ⅈ⋅a₁⋅a₂⋅a₃ + 0.71⋅ⅈ⋅a₂⋅a₃⋅b₁\n0.71⋅ⅈ⋅a₁⋅a₂⋅b₃ - 0.71⋅ⅈ⋅a₂⋅b₁⋅b₃\n\n"
     ]
    }
   ],
   "source": [
    "# X, Y, Z gate. The qubit 2 is the first qubit.\n",
    "qc.x(2)\n",
    "qc.y(1)\n",
    "qc.z(0)\n",
    "qc.result()\n",
    "\n",
    "# Similarly, hadamard gate.\n",
    "qc.h(2)\n",
    "qc.result()"
   ]
  },
  {
   "cell_type": "code",
   "execution_count": 98,
   "metadata": {},
   "outputs": [
    {
     "output_type": "stream",
     "name": "stdout",
     "text": [
      "-0.71⋅ⅈ⋅a₁⋅a₃⋅b₂ - 0.71⋅ⅈ⋅a₃⋅b₁⋅b₂\n-0.71⋅a₁⋅b₂⋅b₃ - 0.71⋅b₁⋅b₂⋅b₃\n0.71⋅ⅈ⋅a₁⋅a₂⋅a₃ + 0.71⋅ⅈ⋅a₂⋅a₃⋅b₁\n0.71⋅a₁⋅a₂⋅b₃ + 0.71⋅a₂⋅b₁⋅b₃\n0.71⋅ⅈ⋅a₁⋅a₃⋅b₂ - 0.71⋅ⅈ⋅a₃⋅b₁⋅b₂\n0.71⋅a₁⋅b₂⋅b₃ - 0.71⋅b₁⋅b₂⋅b₃\n-0.71⋅ⅈ⋅a₁⋅a₂⋅a₃ + 0.71⋅ⅈ⋅a₂⋅a₃⋅b₁\n-0.71⋅a₁⋅a₂⋅b₃ + 0.71⋅a₂⋅b₁⋅b₃\n\n"
     ]
    }
   ],
   "source": [
    "# Phase gate.\n",
    "qc.phase(0, math.pi/2)\n",
    "qc.result()"
   ]
  },
  {
   "cell_type": "code",
   "execution_count": 99,
   "metadata": {},
   "outputs": [
    {
     "output_type": "stream",
     "name": "stdout",
     "text": [
      "-0.71⋅ⅈ⋅a₁⋅a₃⋅b₂ - 0.71⋅ⅈ⋅a₃⋅b₁⋅b₂\n-0.71⋅a₁⋅b₂⋅b₃ - 0.71⋅b₁⋅b₂⋅b₃\n0.71⋅a₁⋅a₂⋅b₃ + 0.71⋅a₂⋅b₁⋅b₃\n0.71⋅ⅈ⋅a₁⋅a₂⋅a₃ + 0.71⋅ⅈ⋅a₂⋅a₃⋅b₁\n0.71⋅ⅈ⋅a₁⋅a₃⋅b₂ - 0.71⋅ⅈ⋅a₃⋅b₁⋅b₂\n0.71⋅a₁⋅b₂⋅b₃ - 0.71⋅b₁⋅b₂⋅b₃\n-0.71⋅a₁⋅a₂⋅b₃ + 0.71⋅a₂⋅b₁⋅b₃\n-0.71⋅ⅈ⋅a₁⋅a₂⋅a₃ + 0.71⋅ⅈ⋅a₂⋅a₃⋅b₁\n\n-0.71⋅ⅈ⋅a₁⋅a₃⋅b₂ - 0.71⋅ⅈ⋅a₃⋅b₁⋅b₂\n-0.71⋅a₁⋅b₂⋅b₃ - 0.71⋅b₁⋅b₂⋅b₃\n0.71⋅a₁⋅a₂⋅b₃ + 0.71⋅a₂⋅b₁⋅b₃\n0.71⋅ⅈ⋅a₁⋅a₂⋅a₃ + 0.71⋅ⅈ⋅a₂⋅a₃⋅b₁\n0.71⋅ⅈ⋅a₁⋅a₃⋅b₂ - 0.71⋅ⅈ⋅a₃⋅b₁⋅b₂\n-0.71⋅ⅈ⋅a₁⋅a₂⋅a₃ + 0.71⋅ⅈ⋅a₂⋅a₃⋅b₁\n-0.71⋅a₁⋅a₂⋅b₃ + 0.71⋅a₂⋅b₁⋅b₃\n0.71⋅a₁⋅b₂⋅b₃ - 0.71⋅b₁⋅b₂⋅b₃\n\n"
     ]
    }
   ],
   "source": [
    "# CNOT gate is cnot gate with single or multiple control. The first parameter has to be a list.\n",
    "qc.cnot([1], 0)\n",
    "qc.result()\n",
    "\n",
    "qc.cnot([0, 2], 1)\n",
    "qc.result()"
   ]
  },
  {
   "cell_type": "code",
   "execution_count": 44,
   "metadata": {},
   "outputs": [
    {
     "name": "stdout",
     "output_type": "stream",
     "text": [
      "0j\n",
      "0j\n",
      "0j\n",
      "0.707j\n",
      "0j\n",
      "-0.707j\n",
      "0j\n",
      "0j\n",
      "\n"
     ]
    }
   ],
   "source": [
    "# Final results are...\n",
    "qc.output()"
   ]
  },
  {
   "cell_type": "code",
   "execution_count": 45,
   "metadata": {},
   "outputs": [
    {
     "name": "stdout",
     "output_type": "stream",
     "text": [
      "(0.5+0j)\n",
      "(-0.5+0j)\n",
      "0j\n",
      "0j\n",
      "0j\n",
      "0j\n",
      "(0.5+0j)\n",
      "(-0.5+0j)\n",
      "\n"
     ]
    }
   ],
   "source": [
    "# ex)\n",
    "qc.y(1)\n",
    "qc.h(0)\n",
    "qc.output()"
   ]
  },
  {
   "cell_type": "code",
   "execution_count": 34,
   "metadata": {},
   "outputs": [
    {
     "name": "stdout",
     "output_type": "stream",
     "text": [
      "0.71+0.00j (a1)(a2)(a3) + 0.71+0.00j (b1)(a2)(a3)\n",
      "0.71+0.00j (a1)(a2)(b3) + 0.71+0.00j (b1)(a2)(b3)\n",
      "0.71+0.00j (a1)(b2)(a3) + 0.71+0.00j (b1)(b2)(a3)\n",
      "0.71+0.00j (a1)(b2)(b3) + 0.71+0.00j (b1)(b2)(b3)\n",
      "0.71+0.00j (a1)(b2)(a3) + -0.71+0.00j (b1)(b2)(a3)\n",
      "0.71+0.00j (a1)(b2)(b3) + -0.71+0.00j (b1)(b2)(b3)\n",
      "0.71+0.00j (a1)(a2)(a3) + -0.71+0.00j (b1)(a2)(a3)\n",
      "0.71+0.00j (a1)(a2)(b3) + -0.71+0.00j (b1)(a2)(b3)\n",
      "\n",
      "(0.707+0j)\n",
      "0j\n",
      "0j\n",
      "0j\n",
      "0j\n",
      "0j\n",
      "(0.707+0j)\n",
      "0j\n",
      "\n",
      "\t\tProb 0\tProb 1\n",
      "0 Qubit:\t1.0 \t -0.0\n",
      "1 Qubit:\t0.5 \t 0.5\n",
      "2 Qubit:\t0.5 \t 0.5\n"
     ]
    }
   ],
   "source": [
    "# ex 2)\n",
    "qc = quantum_computer(3)\n",
    "\n",
    "qc.h(2)\n",
    "qc.cnot([2], 1)\n",
    "\n",
    "qc.result()\n",
    "qc.output()\n",
    "qc.marginal()"
   ]
  }
 ],
 "metadata": {
  "kernelspec": {
   "name": "python391jvsc74a57bd082825baba28b5a146e70c5851459733869a5b3d64f9aba627b90be2edd986815",
   "display_name": "Python 3.9.1 64-bit ('qiskit': conda)"
  },
  "language_info": {
   "codemirror_mode": {
    "name": "ipython",
    "version": 3
   },
   "file_extension": ".py",
   "mimetype": "text/x-python",
   "name": "python",
   "nbconvert_exporter": "python",
   "pygments_lexer": "ipython3",
   "version": "3.9.1-final"
  }
 },
 "nbformat": 4,
 "nbformat_minor": 2
}